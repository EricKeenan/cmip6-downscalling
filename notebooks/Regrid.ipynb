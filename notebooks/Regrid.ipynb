{
 "cells": [
  {
   "cell_type": "markdown",
   "metadata": {},
   "source": [
    "# Regridding CMIP6\n",
    "##### Here we regrid a user defined cmip6 grid to another user defined target grid. For this we use `xESMF`, `intake-esm`, `dask`, and `xarray`.\n",
    "##### Initial benchmarking: 41 seconds/decade  downscale CESM2 to a ~12 km grid over CONUS"
   ]
  },
  {
   "cell_type": "code",
   "execution_count": 17,
   "metadata": {},
   "outputs": [],
   "source": [
    "# Suppress warnings\n",
    "import warnings\n",
    "warnings.filterwarnings('ignore')\n",
    "\n",
    "# Import packages\n",
    "import xarray as xr\n",
    "import xesmf as xe\n",
    "import intake\n",
    "import util \n",
    "import pprint \n",
    "import xsd\n",
    "import matplotlib.pyplot as plt\n",
    "import cartopy.crs as ccrs\n",
    "import pandas as pd\n",
    "from dask.distributed import Client\n",
    "from dask_jobqueue import SLURMCluster \n",
    "from xsd.pointwise_models import PointWiseDownscaler, QuantileMapper"
   ]
  },
  {
   "cell_type": "code",
   "execution_count": 2,
   "metadata": {},
   "outputs": [],
   "source": [
    "# cluster = SLURMCluster(cores=2, memory='12GB', project='UCGD0006')\n",
    "# cluster.adapt(minimum_cores=0, maximum_cores=30)\n",
    "# client = Client(cluster)\n",
    "# cluster = SLURMCluster(cores=36, memory='100GB', project='UCGD0006',\n",
    "#                        processes=36)\n",
    "# cluster.adapt(minimum=1*36, maximum=10*36)\n",
    "from dask.diagnostics import ProgressBar"
   ]
  },
  {
   "cell_type": "markdown",
   "metadata": {},
   "source": [
    "## Define temporal period of interest"
   ]
  },
  {
   "cell_type": "code",
   "execution_count": 3,
   "metadata": {},
   "outputs": [],
   "source": [
    "t0 = '1990-01-01'\n",
    "tf = '2009-12-31'"
   ]
  },
  {
   "cell_type": "markdown",
   "metadata": {},
   "source": [
    "## Define target grid\n",
    "##### This is the grid that we will interpolate CMIP6 data to. "
   ]
  },
  {
   "cell_type": "code",
   "execution_count": 4,
   "metadata": {},
   "outputs": [],
   "source": [
    "cat = intake.Catalog('/glade/u/home/jhamman/hap_data.yaml')\n",
    "obs_ds = cat['gmet_v2'].to_dask()\n",
    "tgt_grid = xr.Dataset({'lat': (['lat'], obs_ds['lat']),\n",
    "                     'lon': (['lon'], obs_ds['lon'])})"
   ]
  },
  {
   "cell_type": "markdown",
   "metadata": {},
   "source": [
    "## Retrieve CMIP6 data\n",
    "##### This data will be regridded to the target grid."
   ]
  },
  {
   "cell_type": "code",
   "execution_count": 5,
   "metadata": {},
   "outputs": [
    {
     "name": "stdout",
     "output_type": "stream",
     "text": [
      "--> The keys in the returned dictionary of datasets are constructed as follows:\n",
      "\t'activity_id.institution_id.source_id.experiment_id.table_id.grid_label'\n",
      "\n",
      "--> There will be 1 group(s)\n"
     ]
    },
    {
     "data": {
      "text/html": [
       "<table>\n",
       "<tr>\n",
       "<td>\n",
       "<table>\n",
       "  <thead>\n",
       "    <tr><td> </td><th> Array </th><th> Chunk </th></tr>\n",
       "  </thead>\n",
       "  <tbody>\n",
       "    <tr><th> Bytes </th><td> 1.61 GB </td> <td> 221.18 MB </td></tr>\n",
       "    <tr><th> Shape </th><td> (7300, 192, 288) </td> <td> (1000, 192, 288) </td></tr>\n",
       "    <tr><th> Count </th><td> 297 Tasks </td><td> 8 Chunks </td></tr>\n",
       "    <tr><th> Type </th><td> float32 </td><td> numpy.ndarray </td></tr>\n",
       "  </tbody>\n",
       "</table>\n",
       "</td>\n",
       "<td>\n",
       "<svg width=\"163\" height=\"151\" style=\"stroke:rgb(0,0,0);stroke-width:1\" >\n",
       "\n",
       "  <!-- Horizontal lines -->\n",
       "  <line x1=\"10\" y1=\"0\" x2=\"80\" y2=\"70\" style=\"stroke-width:2\" />\n",
       "  <line x1=\"10\" y1=\"30\" x2=\"80\" y2=\"101\" style=\"stroke-width:2\" />\n",
       "\n",
       "  <!-- Vertical lines -->\n",
       "  <line x1=\"10\" y1=\"0\" x2=\"10\" y2=\"30\" style=\"stroke-width:2\" />\n",
       "  <line x1=\"19\" y1=\"9\" x2=\"19\" y2=\"40\" />\n",
       "  <line x1=\"29\" y1=\"19\" x2=\"29\" y2=\"49\" />\n",
       "  <line x1=\"39\" y1=\"29\" x2=\"39\" y2=\"59\" />\n",
       "  <line x1=\"45\" y1=\"35\" x2=\"45\" y2=\"65\" />\n",
       "  <line x1=\"54\" y1=\"44\" x2=\"54\" y2=\"75\" />\n",
       "  <line x1=\"64\" y1=\"54\" x2=\"64\" y2=\"85\" />\n",
       "  <line x1=\"74\" y1=\"64\" x2=\"74\" y2=\"94\" />\n",
       "  <line x1=\"80\" y1=\"70\" x2=\"80\" y2=\"101\" style=\"stroke-width:2\" />\n",
       "\n",
       "  <!-- Colored Rectangle -->\n",
       "  <polygon points=\"10.000000,0.000000 80.588235,70.588235 80.588235,101.197322 10.000000,30.609087\" style=\"fill:#ECB172A0;stroke-width:0\"/>\n",
       "\n",
       "  <!-- Horizontal lines -->\n",
       "  <line x1=\"10\" y1=\"0\" x2=\"43\" y2=\"0\" style=\"stroke-width:2\" />\n",
       "  <line x1=\"19\" y1=\"9\" x2=\"52\" y2=\"9\" />\n",
       "  <line x1=\"29\" y1=\"19\" x2=\"62\" y2=\"19\" />\n",
       "  <line x1=\"39\" y1=\"29\" x2=\"72\" y2=\"29\" />\n",
       "  <line x1=\"45\" y1=\"35\" x2=\"78\" y2=\"35\" />\n",
       "  <line x1=\"54\" y1=\"44\" x2=\"88\" y2=\"44\" />\n",
       "  <line x1=\"64\" y1=\"54\" x2=\"97\" y2=\"54\" />\n",
       "  <line x1=\"74\" y1=\"64\" x2=\"107\" y2=\"64\" />\n",
       "  <line x1=\"80\" y1=\"70\" x2=\"113\" y2=\"70\" style=\"stroke-width:2\" />\n",
       "\n",
       "  <!-- Vertical lines -->\n",
       "  <line x1=\"10\" y1=\"0\" x2=\"80\" y2=\"70\" style=\"stroke-width:2\" />\n",
       "  <line x1=\"43\" y1=\"0\" x2=\"113\" y2=\"70\" style=\"stroke-width:2\" />\n",
       "\n",
       "  <!-- Colored Rectangle -->\n",
       "  <polygon points=\"10.000000,0.000000 43.049549,0.000000 113.637784,70.588235 80.588235,70.588235\" style=\"fill:#ECB172A0;stroke-width:0\"/>\n",
       "\n",
       "  <!-- Horizontal lines -->\n",
       "  <line x1=\"80\" y1=\"70\" x2=\"113\" y2=\"70\" style=\"stroke-width:2\" />\n",
       "  <line x1=\"80\" y1=\"101\" x2=\"113\" y2=\"101\" style=\"stroke-width:2\" />\n",
       "\n",
       "  <!-- Vertical lines -->\n",
       "  <line x1=\"80\" y1=\"70\" x2=\"80\" y2=\"101\" style=\"stroke-width:2\" />\n",
       "  <line x1=\"113\" y1=\"70\" x2=\"113\" y2=\"101\" style=\"stroke-width:2\" />\n",
       "\n",
       "  <!-- Colored Rectangle -->\n",
       "  <polygon points=\"80.588235,70.588235 113.637784,70.588235 113.637784,101.197322 80.588235,101.197322\" style=\"fill:#ECB172A0;stroke-width:0\"/>\n",
       "\n",
       "  <!-- Text -->\n",
       "  <text x=\"97.113010\" y=\"121.197322\" font-size=\"1.0rem\" font-weight=\"100\" text-anchor=\"middle\" >288</text>\n",
       "  <text x=\"133.637784\" y=\"85.892779\" font-size=\"1.0rem\" font-weight=\"100\" text-anchor=\"middle\" transform=\"rotate(-90,133.637784,85.892779)\">192</text>\n",
       "  <text x=\"35.294118\" y=\"85.903204\" font-size=\"1.0rem\" font-weight=\"100\" text-anchor=\"middle\" transform=\"rotate(45,35.294118,85.903204)\">7300</text>\n",
       "</svg>\n",
       "</td>\n",
       "</tr>\n",
       "</table>"
      ],
      "text/plain": [
       "dask.array<getitem, shape=(7300, 192, 288), dtype=float32, chunksize=(1000, 192, 288), chunktype=numpy.ndarray>"
      ]
     },
     "execution_count": 5,
     "metadata": {},
     "output_type": "execute_result"
    }
   ],
   "source": [
    "# Querry CMIP6 data catalog for desired data\n",
    "cat = intake.open_esm_datastore(\"../catalogs/glade-cmip6.json\")\n",
    "cat = cat.search(experiment_id = ['historical'], source_id = ['CESM2'], \\\n",
    "                 table_id = ['day'], variable_id = ['pr'], member_id = ['r2i1p1f1'])\n",
    "cat.df.head()\n",
    "\n",
    "# Create dataset\n",
    "ds = cat.to_dataset_dict(cdf_kwargs={'chunks': {'time': 1000}})\n",
    "ds = ds['CMIP.NCAR.CESM2.historical.day.gn']['pr']\n",
    "ds = ds.sel(time=slice(t0, tf))\n",
    "ds = ds[0,:,:,:]\n",
    "ds.data"
   ]
  },
  {
   "cell_type": "markdown",
   "metadata": {},
   "source": [
    "## Regrid CMIP6 grid to target grid"
   ]
  },
  {
   "cell_type": "code",
   "execution_count": 6,
   "metadata": {},
   "outputs": [
    {
     "name": "stdout",
     "output_type": "stream",
     "text": [
      "Create weight file: bilinear_192x288_224x464.nc\n",
      "CPU times: user 2.54 s, sys: 318 ms, total: 2.86 s\n",
      "Wall time: 3.44 s\n",
      "Remove file bilinear_192x288_224x464.nc\n",
      "[########################################] | 100% Completed | 24.9s\n"
     ]
    }
   ],
   "source": [
    "%time regridder = xe.Regridder(ds, tgt_grid, 'bilinear')\n",
    "regridder.clean_weight_file()\n",
    "regridded_ds = regridder(ds)\n",
    "regridded_ds.data\n",
    "with ProgressBar():\n",
    "    regridded_ds = regridded_ds.persist() # Applies regridding (no longer lazy!)"
   ]
  },
  {
   "cell_type": "markdown",
   "metadata": {},
   "source": [
    "## Unit Conversions"
   ]
  },
  {
   "cell_type": "code",
   "execution_count": 7,
   "metadata": {},
   "outputs": [],
   "source": [
    "# # Currently the regirdded data is daily time resolution with units of kg/m^2/sec\n",
    "# # Multiply by 86400 to transform to mm/day (the same as kg/m^2/day)\n",
    "ds = ds * 86400\n",
    "regridded_ds = regridded_ds * 86400"
   ]
  },
  {
   "cell_type": "markdown",
   "metadata": {},
   "source": [
    "## Plot Regrided Data"
   ]
  },
  {
   "cell_type": "code",
   "execution_count": 8,
   "metadata": {},
   "outputs": [
    {
     "data": {
      "image/png": "[encoded data removed]",
      "text/plain": [
       "<Figure size 432x288 with 2 Axes>"
      ]
     },
     "metadata": {
      "needs_background": "light"
     },
     "output_type": "display_data"
    }
   ],
   "source": [
    "ax = plt.axes(projection=ccrs.PlateCarree())\n",
    "regridded_ds.isel(time=0).plot.pcolormesh(ax=ax);\n",
    "ax.coastlines();"
   ]
  },
  {
   "cell_type": "markdown",
   "metadata": {},
   "source": [
    "## Compare observational data and CESM"
   ]
  },
  {
   "cell_type": "code",
   "execution_count": 9,
   "metadata": {},
   "outputs": [],
   "source": [
    "# Define location\n",
    "lat = 40\n",
    "lon = -105.27\n",
    "\n",
    "# Retrieve data\n",
    "obs_ds = obs_ds.sel(time=slice(t0, tf))\n",
    "# obs_ds = obs_ds.sel(lon=lon, lat=lat, method='nearest')\n",
    "# regridded_ds = regridded_ds.sel(lon=lon, lat=lat, method='nearest')\n",
    "\n",
    "# # Calculate Monthly Averages (ma)\n",
    "# obs_ma = obs_ds.groupby('time.month').mean('time')\n",
    "# mod_ma = regridded_ds.groupby('time.month').mean('time')\n",
    "\n",
    "# # Plot\n",
    "# plt.figure(1, figsize = (5,5))\n",
    "# plt.scatter(obs_ma['pcp'], mod_ma)\n",
    "# plt.plot([-10, 10], [-10, 10], 'k--')\n",
    "# plt.xlim([0, 5])\n",
    "# plt.ylim([0, 5])\n",
    "# plt.grid()\n",
    "# plt.xlabel(\"Observations\")\n",
    "# plt.ylabel(\"Model\")"
   ]
  },
  {
   "cell_type": "markdown",
   "metadata": {},
   "source": [
    "## Now apply a statistical downscalling approach using `xsd`"
   ]
  },
  {
   "cell_type": "code",
   "execution_count": 10,
   "metadata": {},
   "outputs": [],
   "source": [
    "# Make an empy predicting function\n",
    "class MyQM(QuantileMapper):\n",
    "    def predict(self, X):\n",
    "        pass\n",
    "\n",
    "# Construct quantile mapping model and then apply on training and target datasets\n",
    "qm = PointWiseDownscaler(model=MyQM, dim='time')\n",
    "test = qm.fit(regridded_ds, obs_ds['pcp'])"
   ]
  }
 ],
 "metadata": {
  "kernelspec": {
   "display_name": "xsd",
   "language": "python",
   "name": "xsd"
  },
  "language_info": {
   "codemirror_mode": {
    "name": "ipython",
    "version": 3
   },
   "file_extension": ".py",
   "mimetype": "text/x-python",
   "name": "python",
   "nbconvert_exporter": "python",
   "pygments_lexer": "ipython3",
   "version": "3.7.3"
  }
 },
 "nbformat": 4,
 "nbformat_minor": 4
}
